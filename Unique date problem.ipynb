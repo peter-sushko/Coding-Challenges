{
 "cells": [
  {
   "cell_type": "raw",
   "metadata": {},
   "source": [
    "Problem:\n",
    "Find the first date which 'mm/dd/yyyy' representation doesnt contain unique digits\n",
    "ex1: \"01/22/2020\" doesnt work because the all three digits (0,1,2) are repeated\n",
    "ex2: \"01/23/4567\" works as there are no repeats"
   ]
  },
  {
   "cell_type": "code",
   "execution_count": 46,
   "metadata": {},
   "outputs": [
    {
     "ename": "OverflowError",
     "evalue": "date value out of range",
     "output_type": "error",
     "traceback": [
      "\u001b[1;31m---------------------------------------------------------------------------\u001b[0m",
      "\u001b[1;31mOverflowError\u001b[0m                             Traceback (most recent call last)",
      "\u001b[1;32m<ipython-input-46-228add58af79>\u001b[0m in \u001b[0;36m<module>\u001b[1;34m\u001b[0m\n\u001b[0;32m      9\u001b[0m \u001b[1;33m\u001b[0m\u001b[0m\n\u001b[0;32m     10\u001b[0m \u001b[1;32mwhile\u001b[0m \u001b[0mCounter\u001b[0m\u001b[1;33m(\u001b[0m\u001b[0mstr\u001b[0m\u001b[1;33m(\u001b[0m\u001b[0mdate\u001b[0m\u001b[1;33m)\u001b[0m\u001b[1;33m)\u001b[0m\u001b[1;33m.\u001b[0m\u001b[0mmost_common\u001b[0m\u001b[1;33m(\u001b[0m\u001b[1;36m1\u001b[0m\u001b[1;33m)\u001b[0m\u001b[1;33m[\u001b[0m\u001b[1;36m0\u001b[0m\u001b[1;33m]\u001b[0m\u001b[1;33m[\u001b[0m\u001b[1;36m1\u001b[0m\u001b[1;33m]\u001b[0m\u001b[1;33m>\u001b[0m\u001b[1;36m1\u001b[0m\u001b[1;33m:\u001b[0m\u001b[1;33m\u001b[0m\u001b[1;33m\u001b[0m\u001b[0m\n\u001b[1;32m---> 11\u001b[1;33m     \u001b[0mdate\u001b[0m \u001b[1;33m=\u001b[0m \u001b[0mdate\u001b[0m \u001b[1;33m+\u001b[0m \u001b[0mdatetime\u001b[0m\u001b[1;33m.\u001b[0m\u001b[0mtimedelta\u001b[0m\u001b[1;33m(\u001b[0m\u001b[0mdays\u001b[0m\u001b[1;33m=\u001b[0m\u001b[1;36m1\u001b[0m\u001b[1;33m)\u001b[0m\u001b[1;33m\u001b[0m\u001b[1;33m\u001b[0m\u001b[0m\n\u001b[0m\u001b[0;32m     12\u001b[0m \u001b[1;33m\u001b[0m\u001b[0m\n\u001b[0;32m     13\u001b[0m \u001b[0mprint\u001b[0m\u001b[1;33m(\u001b[0m\u001b[0mdate\u001b[0m\u001b[1;33m)\u001b[0m\u001b[1;33m\u001b[0m\u001b[1;33m\u001b[0m\u001b[0m\n",
      "\u001b[1;31mOverflowError\u001b[0m: date value out of range"
     ]
    }
   ],
   "source": [
    "#First thought but this isn't optimized at all as it tracks dates day by day until 2345. \n",
    "#thats 300+ years with 365 days, over 1M points\n",
    "#this code times out\n",
    "\n",
    "import datetime\n",
    "from collections import Counter\n",
    "\n",
    "date = datetime.datetime.today().date()\n",
    "\n",
    "while Counter(str(date)).most_common(1)[0][1]>1: #check how many times the most common digit is repeated. \n",
    "                                                 #If its 1 then the problem is solved\n",
    "    date = date + datetime.timedelta(days=1) #try the next day\n",
    "    \n",
    "print(date)"
   ]
  },
  {
   "cell_type": "code",
   "execution_count": 45,
   "metadata": {},
   "outputs": [
    {
     "name": "stdout",
     "output_type": "stream",
     "text": [
      "0 6 / 1 7 / 2345\n"
     ]
    }
   ],
   "source": [
    "#optimal solution in terms of time but its more complicated\n",
    "\n",
    "months = ['01','02','03','04','05','06','07','08','09','10','11','12'] #used to see what digits available for the month\n",
    "digits = ['1','2','3','4','5','6','7','8','9','0'] #used to see what digits available for the year\n",
    "year = 2020 #input year, set as 2020 but can be customized to take an input\n",
    "possible=False #tracks for solution\n",
    "\n",
    "\n",
    "def available_digits(year, digits): #used to select a year without repeating digits. Also tracks which digits were used\n",
    "    for number in str(year):\n",
    "        if number in digits:\n",
    "            digits.remove(number) #remove from the list because they were used\n",
    "        else:\n",
    "            return False, digits #in case digits repeat\n",
    "    return True, digits\n",
    "\n",
    "def month_available(year,digits):\n",
    "    if available_digits(year,digits)[0]==True: #run year first\n",
    "        for string1 in digits:\n",
    "            for string2 in digits:\n",
    "                if string1!=string2: #check for a pair of different digits\n",
    "                    for month in months:\n",
    "                        if month == str(string1)+str(string2): #if a month can be represented with the digits\n",
    "                            global m1 #used to print out the answer\n",
    "                            global m2 \n",
    "                            m1=string1\n",
    "                            m2=string2\n",
    "                            digits.remove(string1) #remove digits as they are used\n",
    "                            digits.remove(string2)\n",
    "                            return True, digits\n",
    "    return False, digits\n",
    "\n",
    "def day_available(year,digits): #check if we can make a day with remaining digits\n",
    "    if month_available(year,digits)[0]==True:\n",
    "        for i in digits:\n",
    "            if i=='0' or i=='1' or i=='2': #we need either of them for the first position to make a day\n",
    "                #we dont care about 30th or 31st because they use a 1 or a 0 and we are checking for it above\n",
    "                global d1, d2 \n",
    "                d1=i\n",
    "                digits.remove(i)\n",
    "                d2=digits[-1]\n",
    "                return True, digits\n",
    "    return False, digits\n",
    "\n",
    "while possible == False: #loop over possible years. after, loop over months. lastly, over days\n",
    "    digits = ['0','6','9','8','7','5','4','3','2','1']\n",
    "    year+=1\n",
    "    possible = day_available(year,digits)[0]\n",
    "print(m1,m2,'/',d1,d2,'/',year)\n",
    "\n",
    "#Note: here we assumed that february always has 29 days.\n",
    "#Since february is month 2, we already use '2' as the first digit in the year, so this isnt a problem in our case\n",
    "#This could be an issue if we run this code after year 3000 but this is an issue for the next millenium "
   ]
  }
 ],
 "metadata": {
  "kernelspec": {
   "display_name": "Python 3",
   "language": "python",
   "name": "python3"
  },
  "language_info": {
   "codemirror_mode": {
    "name": "ipython",
    "version": 3
   },
   "file_extension": ".py",
   "mimetype": "text/x-python",
   "name": "python",
   "nbconvert_exporter": "python",
   "pygments_lexer": "ipython3",
   "version": "3.7.4"
  }
 },
 "nbformat": 4,
 "nbformat_minor": 2
}
